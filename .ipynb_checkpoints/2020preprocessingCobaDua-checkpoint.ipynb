{
 "cells": [
  {
   "cell_type": "code",
   "execution_count": 1,
   "metadata": {},
   "outputs": [],
   "source": [
    "import pandas as pd\n",
    "import numpy as np"
   ]
  },
  {
   "cell_type": "code",
   "execution_count": 66,
   "metadata": {},
   "outputs": [],
   "source": [
    "data=pd.read_excel('2020.xlsx')"
   ]
  },
  {
   "cell_type": "code",
   "execution_count": 67,
   "metadata": {},
   "outputs": [
    {
     "data": {
      "text/html": [
       "<div>\n",
       "<style scoped>\n",
       "    .dataframe tbody tr th:only-of-type {\n",
       "        vertical-align: middle;\n",
       "    }\n",
       "\n",
       "    .dataframe tbody tr th {\n",
       "        vertical-align: top;\n",
       "    }\n",
       "\n",
       "    .dataframe thead th {\n",
       "        text-align: right;\n",
       "    }\n",
       "</style>\n",
       "<table border=\"1\" class=\"dataframe\">\n",
       "  <thead>\n",
       "    <tr style=\"text-align: right;\">\n",
       "      <th></th>\n",
       "      <th>NO</th>\n",
       "      <th>PERKARA</th>\n",
       "      <th>TKP</th>\n",
       "      <th>KECAMATAN</th>\n",
       "      <th>Unnamed: 4</th>\n",
       "    </tr>\n",
       "  </thead>\n",
       "  <tbody>\n",
       "    <tr>\n",
       "      <th>0</th>\n",
       "      <td>1</td>\n",
       "      <td>PENIPUAN</td>\n",
       "      <td>DUSUN WIRAKARYA \\nCIKAMPEK KOTA\\nCIKAMPEK</td>\n",
       "      <td>CIKAMPEK</td>\n",
       "      <td>NaN</td>\n",
       "    </tr>\n",
       "    <tr>\n",
       "      <th>1</th>\n",
       "      <td>2</td>\n",
       "      <td>PENIPUAN</td>\n",
       "      <td>RS TITAN BUNDA\\nDAWUAN TIMUR\\nCIKAMPEK</td>\n",
       "      <td>CIKAMPEK</td>\n",
       "      <td>NaN</td>\n",
       "    </tr>\n",
       "    <tr>\n",
       "      <th>2</th>\n",
       "      <td>3</td>\n",
       "      <td>PENIPUAN</td>\n",
       "      <td>RSUD KARAWANG PUSEURJAYA\\nTELUKJAMBE TIMUR\\nKA...</td>\n",
       "      <td>TELUKJAMBE TIMUR</td>\n",
       "      <td>NaN</td>\n",
       "    </tr>\n",
       "  </tbody>\n",
       "</table>\n",
       "</div>"
      ],
      "text/plain": [
       "   NO   PERKARA                                                TKP  \\\n",
       "0   1  PENIPUAN          DUSUN WIRAKARYA \\nCIKAMPEK KOTA\\nCIKAMPEK   \n",
       "1   2  PENIPUAN             RS TITAN BUNDA\\nDAWUAN TIMUR\\nCIKAMPEK   \n",
       "2   3  PENIPUAN  RSUD KARAWANG PUSEURJAYA\\nTELUKJAMBE TIMUR\\nKA...   \n",
       "\n",
       "          KECAMATAN Unnamed: 4  \n",
       "0          CIKAMPEK        NaN  \n",
       "1          CIKAMPEK        NaN  \n",
       "2  TELUKJAMBE TIMUR        NaN  "
      ]
     },
     "execution_count": 67,
     "metadata": {},
     "output_type": "execute_result"
    }
   ],
   "source": [
    "data.head(3)"
   ]
  },
  {
   "cell_type": "code",
   "execution_count": 68,
   "metadata": {},
   "outputs": [
    {
     "data": {
      "text/plain": [
       "946"
      ]
     },
     "execution_count": 68,
     "metadata": {},
     "output_type": "execute_result"
    }
   ],
   "source": [
    "len(data)"
   ]
  },
  {
   "cell_type": "code",
   "execution_count": 69,
   "metadata": {},
   "outputs": [],
   "source": [
    "hapus= ['FIDUSIA','UU FIDUSIA','UU ITE','PERZINAHAN','PENCEMARAN NAMA BAIK','UU KETENAGAKERJAAN',\n",
    "        'PENGUASAAN TANAH TANPA HAK','PENGUASAAN TANAH TANPA IJIN','PERBUATAN TIDAK MENYENANGKAN',\n",
    "        'PEMALSUAN TANDA TANGAN','KETERANGAN PALSU','PERKAWINAN TERHALANG',\n",
    "        'UU NO 13 TAHUN 2003 TENTANG KETENAGAKERJAAN','MENEMPATKAN KETERANGAN PALSU','PENYEROBOTAN TANAH',\n",
    "        'UU SERIKAT PEKERJA','UU HAK CIPTA','PENELANTARAN KELUARGA','MEMBAWA LARI ANAK',\n",
    "        'MEMBAWA LARI ANAK PEREMPUAN TANPA IJIN','PENGGUNAAN MERK TANPA IJIN','MENYEBARKAN BERITA PALSU',\n",
    "        'TP PEMBERITAAN BOHONG','MEMASUKI PERKARANGAN TANPA HAK',\n",
    "        'Pelanggaran UU Darurat No 12/1951 Jo perbuatan tidak menyenangkan pasal 335 KUHPidana','PENGHINAAN',\n",
    "        'PENGHINAAN RINGAN','MEMASUKI PEKARANGAN TANPA IJIN','MEMASUKI PEKARANGAN TANPA IJIN','TP MAL PRAKTEK',\n",
    "        'UANG PALSU','NARKOTIKA','PENGGUNAAN MERK TANPA IZIN','FITNAH','TP MELAWAN PETUGAS','PENYEROBOTAN TANAH',\n",
    "        'PENYEROBOTAN TANAH TANPA HAK','KARENA KELALAIAN MENGAKIBATKAN ORANG LAIN LUKA','UU BPJS','PENELANTARAN',\n",
    "        'PENELANTARAN KELUARGA','PEMALSUAN SURAT','PEMALSUAN SURAT DAN ATAU PENIPUAN','PEMERASAN',\n",
    "        'MEMBAWA LARI ANAK','MENEMPATKAN KETERANGAN PALSU','PENGANCAMAN','PENGUASAAN TANPA IJIN ',\n",
    "        'Tanpa Hak atau melawan hukummemiliki,menyimpan,menguasai,atau menyediakan narkotika golongan 1 bukan tanaman',\n",
    "        'PERJINAHAN','PEMALSUAN SURAT','PERTBUATAN TIDAK MENYENANGKAN','UU KONSUMEN','PENGGUNAAN MERK TANPA IJIN',\n",
    "        'PENYALAH GUNAAN HAK','UU UPAH DIBAWAH MINIMUM SEKTOR','PENGGELAPAN HAK ATAS TANAH',\n",
    "        'PENGUASAAN TANAH TANAP HAK','PENYALAHGUNAAN SAJAM','TP FITNAH','UU TENAGAKERJA','UU TENTANG SERIKAT PEKERJA']"
   ]
  },
  {
   "cell_type": "code",
   "execution_count": 70,
   "metadata": {},
   "outputs": [],
   "source": [
    "data_filtered=data[~data['PERKARA'].isin(hapus)]"
   ]
  },
  {
   "cell_type": "code",
   "execution_count": 71,
   "metadata": {},
   "outputs": [
    {
     "name": "stdout",
     "output_type": "stream",
     "text": [
      "(828, 5)\n"
     ]
    }
   ],
   "source": [
    "print(data_filtered.shape)"
   ]
  },
  {
   "cell_type": "markdown",
   "metadata": {},
   "source": [
    "-CONVERT EXCEL-"
   ]
  },
  {
   "cell_type": "code",
   "execution_count": 72,
   "metadata": {},
   "outputs": [],
   "source": [
    "data_filter = pd.DataFrame(data_filtered)\n",
    "data_filtered.to_excel(r'hasilPreprocessingKonvensional2020.xlsx',\n",
    "                       index = False)"
   ]
  },
  {
   "cell_type": "markdown",
   "metadata": {},
   "source": [
    "## MENGHILANGKAN MISSING VALUE"
   ]
  },
  {
   "cell_type": "code",
   "execution_count": 73,
   "metadata": {},
   "outputs": [],
   "source": [
    "import pandas as pd\n",
    "hasil1=pd.read_excel('hasilPreprocessingKonvensional2020.xlsx')"
   ]
  },
  {
   "cell_type": "code",
   "execution_count": 74,
   "metadata": {},
   "outputs": [
    {
     "name": "stdout",
     "output_type": "stream",
     "text": [
      "(828, 5)\n"
     ]
    }
   ],
   "source": [
    "print(hasil1.shape)"
   ]
  },
  {
   "cell_type": "code",
   "execution_count": 75,
   "metadata": {},
   "outputs": [],
   "source": [
    "del hasil1['Unnamed: 4']"
   ]
  },
  {
   "cell_type": "code",
   "execution_count": 76,
   "metadata": {},
   "outputs": [
    {
     "name": "stdout",
     "output_type": "stream",
     "text": [
      "(828, 4)\n"
     ]
    }
   ],
   "source": [
    "print(hasil1.shape) "
   ]
  },
  {
   "cell_type": "code",
   "execution_count": 77,
   "metadata": {},
   "outputs": [
    {
     "data": {
      "text/plain": [
       "NO           0\n",
       "PERKARA      0\n",
       "TKP          0\n",
       "KECAMATAN    7\n",
       "dtype: int64"
      ]
     },
     "execution_count": 77,
     "metadata": {},
     "output_type": "execute_result"
    }
   ],
   "source": [
    "hasil1.isna().sum()"
   ]
  },
  {
   "cell_type": "code",
   "execution_count": 78,
   "metadata": {},
   "outputs": [
    {
     "data": {
      "text/html": [
       "<div>\n",
       "<style scoped>\n",
       "    .dataframe tbody tr th:only-of-type {\n",
       "        vertical-align: middle;\n",
       "    }\n",
       "\n",
       "    .dataframe tbody tr th {\n",
       "        vertical-align: top;\n",
       "    }\n",
       "\n",
       "    .dataframe thead th {\n",
       "        text-align: right;\n",
       "    }\n",
       "</style>\n",
       "<table border=\"1\" class=\"dataframe\">\n",
       "  <thead>\n",
       "    <tr style=\"text-align: right;\">\n",
       "      <th></th>\n",
       "      <th>NO</th>\n",
       "      <th>PERKARA</th>\n",
       "      <th>TKP</th>\n",
       "      <th>KECAMATAN</th>\n",
       "    </tr>\n",
       "  </thead>\n",
       "  <tbody>\n",
       "    <tr>\n",
       "      <th>0</th>\n",
       "      <td>1</td>\n",
       "      <td>PENIPUAN</td>\n",
       "      <td>DUSUN WIRAKARYA \\nCIKAMPEK KOTA\\nCIKAMPEK</td>\n",
       "      <td>CIKAMPEK</td>\n",
       "    </tr>\n",
       "    <tr>\n",
       "      <th>1</th>\n",
       "      <td>2</td>\n",
       "      <td>PENIPUAN</td>\n",
       "      <td>RS TITAN BUNDA\\nDAWUAN TIMUR\\nCIKAMPEK</td>\n",
       "      <td>CIKAMPEK</td>\n",
       "    </tr>\n",
       "    <tr>\n",
       "      <th>2</th>\n",
       "      <td>3</td>\n",
       "      <td>PENIPUAN</td>\n",
       "      <td>RSUD KARAWANG PUSEURJAYA\\nTELUKJAMBE TIMUR\\nKA...</td>\n",
       "      <td>TELUKJAMBE TIMUR</td>\n",
       "    </tr>\n",
       "    <tr>\n",
       "      <th>3</th>\n",
       "      <td>4</td>\n",
       "      <td>PENGGELAPAN</td>\n",
       "      <td>MASJID BAITURAHMAN PERUM CKM\\nDS BENGLE\\nKEC M...</td>\n",
       "      <td>MAJALAYA</td>\n",
       "    </tr>\n",
       "    <tr>\n",
       "      <th>4</th>\n",
       "      <td>5</td>\n",
       "      <td>PENGERUSAKAN</td>\n",
       "      <td>KAMPUNG PAKAMPURAN \\nDS TAMANSARI\\nKEC PANGKAL...</td>\n",
       "      <td>PANGKALAN</td>\n",
       "    </tr>\n",
       "    <tr>\n",
       "      <th>...</th>\n",
       "      <td>...</td>\n",
       "      <td>...</td>\n",
       "      <td>...</td>\n",
       "      <td>...</td>\n",
       "    </tr>\n",
       "    <tr>\n",
       "      <th>823</th>\n",
       "      <td>942</td>\n",
       "      <td>PENIPUAN</td>\n",
       "      <td>VIA TRANSFER DI ATM BANK SINARMAS dan TUNAI\\nP...</td>\n",
       "      <td>KARAWANG TIMUR</td>\n",
       "    </tr>\n",
       "    <tr>\n",
       "      <th>824</th>\n",
       "      <td>943</td>\n",
       "      <td>PEMALSUAN</td>\n",
       "      <td>Jl. Raya Kosambi No 43\\nPROVINSI : JAWA BARAT\\...</td>\n",
       "      <td>KLARI</td>\n",
       "    </tr>\n",
       "    <tr>\n",
       "      <th>825</th>\n",
       "      <td>944</td>\n",
       "      <td>PENGEROYOKAN</td>\n",
       "      <td>Dsn.Sukajaya Rt 11/02 Ds.Kemiri Kec.Jayakerta ...</td>\n",
       "      <td>JAYAKERTA</td>\n",
       "    </tr>\n",
       "    <tr>\n",
       "      <th>826</th>\n",
       "      <td>945</td>\n",
       "      <td>PENGANIAYAAN</td>\n",
       "      <td>Rengajaya II Rt 56/11\\nPROVINSI : JAWA BARAT\\n...</td>\n",
       "      <td>RENGASDENGKLOK</td>\n",
       "    </tr>\n",
       "    <tr>\n",
       "      <th>827</th>\n",
       "      <td>946</td>\n",
       "      <td>CURAT</td>\n",
       "      <td>Kp. Cengkong Ds. Sukasari Kec. Purwasari\\nPROV...</td>\n",
       "      <td>PURWASARI</td>\n",
       "    </tr>\n",
       "  </tbody>\n",
       "</table>\n",
       "<p>821 rows × 4 columns</p>\n",
       "</div>"
      ],
      "text/plain": [
       "      NO       PERKARA                                                TKP  \\\n",
       "0      1      PENIPUAN          DUSUN WIRAKARYA \\nCIKAMPEK KOTA\\nCIKAMPEK   \n",
       "1      2      PENIPUAN             RS TITAN BUNDA\\nDAWUAN TIMUR\\nCIKAMPEK   \n",
       "2      3      PENIPUAN  RSUD KARAWANG PUSEURJAYA\\nTELUKJAMBE TIMUR\\nKA...   \n",
       "3      4   PENGGELAPAN  MASJID BAITURAHMAN PERUM CKM\\nDS BENGLE\\nKEC M...   \n",
       "4      5  PENGERUSAKAN  KAMPUNG PAKAMPURAN \\nDS TAMANSARI\\nKEC PANGKAL...   \n",
       "..   ...           ...                                                ...   \n",
       "823  942      PENIPUAN  VIA TRANSFER DI ATM BANK SINARMAS dan TUNAI\\nP...   \n",
       "824  943     PEMALSUAN  Jl. Raya Kosambi No 43\\nPROVINSI : JAWA BARAT\\...   \n",
       "825  944  PENGEROYOKAN  Dsn.Sukajaya Rt 11/02 Ds.Kemiri Kec.Jayakerta ...   \n",
       "826  945  PENGANIAYAAN  Rengajaya II Rt 56/11\\nPROVINSI : JAWA BARAT\\n...   \n",
       "827  946         CURAT  Kp. Cengkong Ds. Sukasari Kec. Purwasari\\nPROV...   \n",
       "\n",
       "            KECAMATAN  \n",
       "0            CIKAMPEK  \n",
       "1            CIKAMPEK  \n",
       "2    TELUKJAMBE TIMUR  \n",
       "3            MAJALAYA  \n",
       "4           PANGKALAN  \n",
       "..                ...  \n",
       "823    KARAWANG TIMUR  \n",
       "824             KLARI  \n",
       "825         JAYAKERTA  \n",
       "826    RENGASDENGKLOK  \n",
       "827         PURWASARI  \n",
       "\n",
       "[821 rows x 4 columns]"
      ]
     },
     "execution_count": 78,
     "metadata": {},
     "output_type": "execute_result"
    }
   ],
   "source": [
    "hasil1.dropna()"
   ]
  },
  {
   "cell_type": "code",
   "execution_count": 79,
   "metadata": {},
   "outputs": [],
   "source": [
    "hasil2=hasil1.dropna(axis=0)"
   ]
  },
  {
   "cell_type": "code",
   "execution_count": 80,
   "metadata": {},
   "outputs": [
    {
     "data": {
      "text/plain": [
       "821"
      ]
     },
     "execution_count": 80,
     "metadata": {},
     "output_type": "execute_result"
    }
   ],
   "source": [
    "len(hasil2)"
   ]
  },
  {
   "cell_type": "code",
   "execution_count": 81,
   "metadata": {},
   "outputs": [
    {
     "name": "stdout",
     "output_type": "stream",
     "text": [
      "(821, 4)\n"
     ]
    }
   ],
   "source": [
    "print(hasil2.shape)"
   ]
  },
  {
   "cell_type": "code",
   "execution_count": 82,
   "metadata": {},
   "outputs": [
    {
     "data": {
      "text/plain": [
       "NO           0\n",
       "PERKARA      0\n",
       "TKP          0\n",
       "KECAMATAN    0\n",
       "dtype: int64"
      ]
     },
     "execution_count": 82,
     "metadata": {},
     "output_type": "execute_result"
    }
   ],
   "source": [
    "hasil2.isna().sum()"
   ]
  },
  {
   "cell_type": "code",
   "execution_count": 83,
   "metadata": {},
   "outputs": [
    {
     "data": {
      "text/plain": [
       "PENIPUAN                     198\n",
       "CURAT                        126\n",
       "CURANMOR                     100\n",
       "PENGGELAPAN                   82\n",
       "PENGANIAYAAN                  72\n",
       "PENGEROYOKAN                  60\n",
       "PENCURIAN                     58\n",
       "CABUL                         31\n",
       "KDRT                          25\n",
       "PENIPUAN DAN PENGGELAPAN      20\n",
       "CURAS                         18\n",
       "PENGERUSAKAN                  13\n",
       "PERUNDUNGAN ANAK               9\n",
       "PEMALSUAN                      7\n",
       "PERAMPASAN                     1\n",
       "PENCURIAN DAN PENGGELAPAN      1\n",
       "Name: PERKARA, dtype: int64"
      ]
     },
     "execution_count": 83,
     "metadata": {},
     "output_type": "execute_result"
    }
   ],
   "source": [
    "hasil2['PERKARA'].value_counts()"
   ]
  },
  {
   "cell_type": "code",
   "execution_count": 84,
   "metadata": {},
   "outputs": [],
   "source": [
    "hasil2.to_excel(r'hasilPreprocessingMissingValue2020.xlsx', index = False)"
   ]
  },
  {
   "cell_type": "markdown",
   "metadata": {},
   "source": [
    "## MENGHILANGKAN KOLOM YANG TIDAK DIBUTUHKAN "
   ]
  },
  {
   "cell_type": "code",
   "execution_count": 1,
   "metadata": {},
   "outputs": [],
   "source": [
    "import pandas as pd\n",
    "hasil3=pd.read_excel('hasilPreprocessingMissingValue2020.xlsx') "
   ]
  },
  {
   "cell_type": "code",
   "execution_count": 2,
   "metadata": {},
   "outputs": [
    {
     "name": "stdout",
     "output_type": "stream",
     "text": [
      "(821, 4)\n"
     ]
    }
   ],
   "source": [
    "print(hasil3.shape)"
   ]
  },
  {
   "cell_type": "code",
   "execution_count": 3,
   "metadata": {},
   "outputs": [
    {
     "data": {
      "text/html": [
       "<div>\n",
       "<style scoped>\n",
       "    .dataframe tbody tr th:only-of-type {\n",
       "        vertical-align: middle;\n",
       "    }\n",
       "\n",
       "    .dataframe tbody tr th {\n",
       "        vertical-align: top;\n",
       "    }\n",
       "\n",
       "    .dataframe thead th {\n",
       "        text-align: right;\n",
       "    }\n",
       "</style>\n",
       "<table border=\"1\" class=\"dataframe\">\n",
       "  <thead>\n",
       "    <tr style=\"text-align: right;\">\n",
       "      <th></th>\n",
       "      <th>NO</th>\n",
       "      <th>PERKARA</th>\n",
       "      <th>TKP</th>\n",
       "      <th>KECAMATAN</th>\n",
       "    </tr>\n",
       "  </thead>\n",
       "  <tbody>\n",
       "    <tr>\n",
       "      <th>0</th>\n",
       "      <td>1</td>\n",
       "      <td>PENIPUAN</td>\n",
       "      <td>DUSUN WIRAKARYA \\nCIKAMPEK KOTA\\nCIKAMPEK</td>\n",
       "      <td>CIKAMPEK</td>\n",
       "    </tr>\n",
       "    <tr>\n",
       "      <th>1</th>\n",
       "      <td>2</td>\n",
       "      <td>PENIPUAN</td>\n",
       "      <td>RS TITAN BUNDA\\nDAWUAN TIMUR\\nCIKAMPEK</td>\n",
       "      <td>CIKAMPEK</td>\n",
       "    </tr>\n",
       "    <tr>\n",
       "      <th>2</th>\n",
       "      <td>3</td>\n",
       "      <td>PENIPUAN</td>\n",
       "      <td>RSUD KARAWANG PUSEURJAYA\\nTELUKJAMBE TIMUR\\nKA...</td>\n",
       "      <td>TELUKJAMBE TIMUR</td>\n",
       "    </tr>\n",
       "  </tbody>\n",
       "</table>\n",
       "</div>"
      ],
      "text/plain": [
       "   NO   PERKARA                                                TKP  \\\n",
       "0   1  PENIPUAN          DUSUN WIRAKARYA \\nCIKAMPEK KOTA\\nCIKAMPEK   \n",
       "1   2  PENIPUAN             RS TITAN BUNDA\\nDAWUAN TIMUR\\nCIKAMPEK   \n",
       "2   3  PENIPUAN  RSUD KARAWANG PUSEURJAYA\\nTELUKJAMBE TIMUR\\nKA...   \n",
       "\n",
       "          KECAMATAN  \n",
       "0          CIKAMPEK  \n",
       "1          CIKAMPEK  \n",
       "2  TELUKJAMBE TIMUR  "
      ]
     },
     "execution_count": 3,
     "metadata": {},
     "output_type": "execute_result"
    }
   ],
   "source": [
    "hasil3.head(3)"
   ]
  },
  {
   "cell_type": "markdown",
   "metadata": {},
   "source": [
    "-MENGHAPUS KOLOM YANG TIDAK DIBUTUHKAN-"
   ]
  },
  {
   "cell_type": "code",
   "execution_count": 4,
   "metadata": {},
   "outputs": [],
   "source": [
    "hasil3=hasil3.drop([\"TKP\",\"NO\"], axis=1)"
   ]
  },
  {
   "cell_type": "code",
   "execution_count": 5,
   "metadata": {},
   "outputs": [
    {
     "data": {
      "text/html": [
       "<div>\n",
       "<style scoped>\n",
       "    .dataframe tbody tr th:only-of-type {\n",
       "        vertical-align: middle;\n",
       "    }\n",
       "\n",
       "    .dataframe tbody tr th {\n",
       "        vertical-align: top;\n",
       "    }\n",
       "\n",
       "    .dataframe thead th {\n",
       "        text-align: right;\n",
       "    }\n",
       "</style>\n",
       "<table border=\"1\" class=\"dataframe\">\n",
       "  <thead>\n",
       "    <tr style=\"text-align: right;\">\n",
       "      <th></th>\n",
       "      <th>PERKARA</th>\n",
       "      <th>KECAMATAN</th>\n",
       "    </tr>\n",
       "  </thead>\n",
       "  <tbody>\n",
       "    <tr>\n",
       "      <th>0</th>\n",
       "      <td>PENIPUAN</td>\n",
       "      <td>CIKAMPEK</td>\n",
       "    </tr>\n",
       "    <tr>\n",
       "      <th>1</th>\n",
       "      <td>PENIPUAN</td>\n",
       "      <td>CIKAMPEK</td>\n",
       "    </tr>\n",
       "    <tr>\n",
       "      <th>2</th>\n",
       "      <td>PENIPUAN</td>\n",
       "      <td>TELUKJAMBE TIMUR</td>\n",
       "    </tr>\n",
       "  </tbody>\n",
       "</table>\n",
       "</div>"
      ],
      "text/plain": [
       "    PERKARA         KECAMATAN\n",
       "0  PENIPUAN          CIKAMPEK\n",
       "1  PENIPUAN          CIKAMPEK\n",
       "2  PENIPUAN  TELUKJAMBE TIMUR"
      ]
     },
     "execution_count": 5,
     "metadata": {},
     "output_type": "execute_result"
    }
   ],
   "source": [
    "hasil3.head(3)"
   ]
  },
  {
   "cell_type": "markdown",
   "metadata": {},
   "source": [
    "-MENAMBAHAN KOLOM NO-"
   ]
  },
  {
   "cell_type": "code",
   "execution_count": 6,
   "metadata": {},
   "outputs": [],
   "source": [
    "hasil3.insert(0, 'NO', hasil3.index+1)"
   ]
  },
  {
   "cell_type": "code",
   "execution_count": 7,
   "metadata": {},
   "outputs": [
    {
     "data": {
      "text/html": [
       "<div>\n",
       "<style scoped>\n",
       "    .dataframe tbody tr th:only-of-type {\n",
       "        vertical-align: middle;\n",
       "    }\n",
       "\n",
       "    .dataframe tbody tr th {\n",
       "        vertical-align: top;\n",
       "    }\n",
       "\n",
       "    .dataframe thead th {\n",
       "        text-align: right;\n",
       "    }\n",
       "</style>\n",
       "<table border=\"1\" class=\"dataframe\">\n",
       "  <thead>\n",
       "    <tr style=\"text-align: right;\">\n",
       "      <th></th>\n",
       "      <th>NO</th>\n",
       "      <th>PERKARA</th>\n",
       "      <th>KECAMATAN</th>\n",
       "    </tr>\n",
       "  </thead>\n",
       "  <tbody>\n",
       "    <tr>\n",
       "      <th>0</th>\n",
       "      <td>1</td>\n",
       "      <td>PENIPUAN</td>\n",
       "      <td>CIKAMPEK</td>\n",
       "    </tr>\n",
       "    <tr>\n",
       "      <th>1</th>\n",
       "      <td>2</td>\n",
       "      <td>PENIPUAN</td>\n",
       "      <td>CIKAMPEK</td>\n",
       "    </tr>\n",
       "  </tbody>\n",
       "</table>\n",
       "</div>"
      ],
      "text/plain": [
       "   NO   PERKARA KECAMATAN\n",
       "0   1  PENIPUAN  CIKAMPEK\n",
       "1   2  PENIPUAN  CIKAMPEK"
      ]
     },
     "execution_count": 7,
     "metadata": {},
     "output_type": "execute_result"
    }
   ],
   "source": [
    "hasil3.head(2)"
   ]
  },
  {
   "cell_type": "code",
   "execution_count": 8,
   "metadata": {},
   "outputs": [
    {
     "name": "stdout",
     "output_type": "stream",
     "text": [
      "(821, 3)\n"
     ]
    }
   ],
   "source": [
    "print(hasil3.shape)"
   ]
  },
  {
   "cell_type": "code",
   "execution_count": 9,
   "metadata": {},
   "outputs": [],
   "source": [
    "hasil3.to_excel(r'hasilCleaning2020.xlsx', index=False)"
   ]
  },
  {
   "cell_type": "markdown",
   "metadata": {},
   "source": [
    "### PIVOT TABLE "
   ]
  },
  {
   "cell_type": "code",
   "execution_count": 11,
   "metadata": {},
   "outputs": [],
   "source": [
    "import pandas as pd\n",
    "import numpy as np"
   ]
  },
  {
   "cell_type": "code",
   "execution_count": 12,
   "metadata": {},
   "outputs": [],
   "source": [
    "data_clean=pd.read_excel('hasilCleaning2020.xlsx')"
   ]
  },
  {
   "cell_type": "code",
   "execution_count": 13,
   "metadata": {},
   "outputs": [
    {
     "name": "stdout",
     "output_type": "stream",
     "text": [
      "PERKARA           CABUL  CURANMOR  CURAS  CURAT  KDRT  PEMALSUAN  PENCURIAN  \\\n",
      "KECAMATAN                                                                     \n",
      "BANYUSARI           1.0       2.0    0.0    2.0   0.0        0.0        1.0   \n",
      "BATUJAYA            3.0       1.0    1.0    0.0   0.0        0.0        0.0   \n",
      "CIAMPEL             0.0       1.0    0.0    6.0   2.0        1.0        6.0   \n",
      "CIBUAYA             2.0       0.0    0.0    0.0   0.0        0.0        0.0   \n",
      "CIKAMPEK            1.0       1.0    0.0    5.0   0.0        0.0        3.0   \n",
      "CILAMAYA KULON      1.0       1.0    0.0    1.0   0.0        0.0        0.0   \n",
      "CILAMAYA WETAN      1.0       2.0    0.0    2.0   0.0        0.0        1.0   \n",
      "CILEBAR             0.0       0.0    0.0    0.0   0.0        0.0        0.0   \n",
      "JATISARI            0.0       3.0    3.0    2.0   1.0        0.0        0.0   \n",
      "JAYAKERTA           0.0       0.0    0.0    1.0   0.0        0.0        1.0   \n",
      "KARAWANG BARAT      3.0      23.0    2.0   14.0   5.0        3.0        7.0   \n",
      "KARAWANG TIMUR      2.0      27.0    5.0   22.0   4.0        1.0       12.0   \n",
      "KLARI               1.0      11.0    0.0   18.0   4.0        2.0        8.0   \n",
      "KOTABARU            1.0       1.0    1.0    0.0   3.0        0.0        1.0   \n",
      "KUTAWALUYA          1.0       0.0    0.0    2.0   0.0        0.0        1.0   \n",
      "LEMAHABANG          1.0       0.0    0.0    2.0   1.0        0.0        0.0   \n",
      "MAJALAYA            3.0       1.0    3.0    4.0   0.0        0.0        3.0   \n",
      "PAKISJAYA           0.0       1.0    0.0    0.0   0.0        0.0        0.0   \n",
      "PANGKALAN           1.0       0.0    0.0    3.0   0.0        0.0        1.0   \n",
      "PEDES               0.0       0.0    0.0    1.0   0.0        0.0        0.0   \n",
      "PURWASARI           3.0       0.0    0.0    4.0   1.0        0.0        1.0   \n",
      "RAWAMERTA           0.0       8.0    0.0    0.0   0.0        0.0        1.0   \n",
      "RENGASDENGKLOK      0.0       2.0    0.0    6.0   0.0        0.0        4.0   \n",
      "TEGALWARU           0.0       0.0    0.0    2.0   0.0        0.0        1.0   \n",
      "TELAGASARI          2.0       0.0    1.0    0.0   1.0        0.0        0.0   \n",
      "TELUKJAMBE BARAT    0.0       0.0    0.0    3.0   0.0        0.0        2.0   \n",
      "TELUKJAMBE TIMUR    2.0      11.0    2.0   24.0   2.0        0.0        4.0   \n",
      "TEMPURAN            1.0       1.0    0.0    0.0   1.0        0.0        0.0   \n",
      "TIRTAJAYA           1.0       3.0    0.0    1.0   0.0        0.0        0.0   \n",
      "TIRTAMULYA          0.0       0.0    0.0    1.0   0.0        0.0        0.0   \n",
      "\n",
      "PERKARA           PENCURIAN DAN PENGGELAPAN  PENGANIAYAAN  PENGEROYOKAN  \\\n",
      "KECAMATAN                                                                 \n",
      "BANYUSARI                               0.0           0.0           0.0   \n",
      "BATUJAYA                                0.0           0.0           0.0   \n",
      "CIAMPEL                                 1.0           4.0           1.0   \n",
      "CIBUAYA                                 0.0           2.0           1.0   \n",
      "CIKAMPEK                                0.0          10.0          12.0   \n",
      "CILAMAYA KULON                          0.0           0.0           0.0   \n",
      "CILAMAYA WETAN                          0.0           1.0           2.0   \n",
      "CILEBAR                                 0.0           0.0           1.0   \n",
      "JATISARI                                0.0           0.0           4.0   \n",
      "JAYAKERTA                               0.0           1.0           1.0   \n",
      "KARAWANG BARAT                          0.0          10.0           4.0   \n",
      "KARAWANG TIMUR                          0.0           8.0           5.0   \n",
      "KLARI                                   0.0          11.0           4.0   \n",
      "KOTABARU                                0.0           1.0           4.0   \n",
      "KUTAWALUYA                              0.0           3.0           0.0   \n",
      "LEMAHABANG                              0.0           2.0           2.0   \n",
      "MAJALAYA                                0.0           1.0           2.0   \n",
      "PAKISJAYA                               0.0           1.0           1.0   \n",
      "PANGKALAN                               0.0           0.0           0.0   \n",
      "PEDES                                   0.0           1.0           0.0   \n",
      "PURWASARI                               0.0           0.0           1.0   \n",
      "RAWAMERTA                               0.0           1.0           1.0   \n",
      "RENGASDENGKLOK                          0.0           4.0           4.0   \n",
      "TEGALWARU                               0.0           1.0           1.0   \n",
      "TELAGASARI                              0.0           0.0           0.0   \n",
      "TELUKJAMBE BARAT                        0.0           1.0           1.0   \n",
      "TELUKJAMBE TIMUR                        0.0           6.0           6.0   \n",
      "TEMPURAN                                0.0           1.0           1.0   \n",
      "TIRTAJAYA                               0.0           1.0           1.0   \n",
      "TIRTAMULYA                              0.0           1.0           0.0   \n",
      "\n",
      "PERKARA           PENGERUSAKAN  PENGGELAPAN  PENIPUAN  \\\n",
      "KECAMATAN                                               \n",
      "BANYUSARI                  0.0          0.0       2.0   \n",
      "BATUJAYA                   0.0          0.0       0.0   \n",
      "CIAMPEL                    1.0          3.0       8.0   \n",
      "CIBUAYA                    0.0          0.0       1.0   \n",
      "CIKAMPEK                   1.0          6.0      17.0   \n",
      "CILAMAYA KULON             0.0          0.0       2.0   \n",
      "CILAMAYA WETAN             0.0          2.0       0.0   \n",
      "CILEBAR                    0.0          0.0       1.0   \n",
      "JATISARI                   0.0          0.0       1.0   \n",
      "JAYAKERTA                  0.0          0.0       0.0   \n",
      "KARAWANG BARAT             0.0         14.0      27.0   \n",
      "KARAWANG TIMUR             0.0         12.0      27.0   \n",
      "KLARI                      3.0         10.0      19.0   \n",
      "KOTABARU                   0.0          7.0      11.0   \n",
      "KUTAWALUYA                 1.0          1.0       1.0   \n",
      "LEMAHABANG                 0.0          0.0       2.0   \n",
      "MAJALAYA                   1.0          3.0       4.0   \n",
      "PAKISJAYA                  0.0          0.0       0.0   \n",
      "PANGKALAN                  1.0          1.0       0.0   \n",
      "PEDES                      0.0          0.0       1.0   \n",
      "PURWASARI                  0.0          0.0       2.0   \n",
      "RAWAMERTA                  0.0          2.0       3.0   \n",
      "RENGASDENGKLOK             1.0          2.0       8.0   \n",
      "TEGALWARU                  0.0          0.0       1.0   \n",
      "TELAGASARI                 0.0          1.0       5.0   \n",
      "TELUKJAMBE BARAT           0.0          3.0       4.0   \n",
      "TELUKJAMBE TIMUR           4.0         12.0      50.0   \n",
      "TEMPURAN                   0.0          2.0       1.0   \n",
      "TIRTAJAYA                  0.0          0.0       0.0   \n",
      "TIRTAMULYA                 0.0          1.0       0.0   \n",
      "\n",
      "PERKARA           PENIPUAN DAN PENGGELAPAN  PERAMPASAN  PERUNDUNGAN ANAK  \\\n",
      "KECAMATAN                                                                  \n",
      "BANYUSARI                              0.0         0.0               0.0   \n",
      "BATUJAYA                               1.0         0.0               0.0   \n",
      "CIAMPEL                                1.0         0.0               0.0   \n",
      "CIBUAYA                                0.0         0.0               0.0   \n",
      "CIKAMPEK                               1.0         0.0               0.0   \n",
      "CILAMAYA KULON                         0.0         0.0               1.0   \n",
      "CILAMAYA WETAN                         0.0         0.0               0.0   \n",
      "CILEBAR                                0.0         0.0               0.0   \n",
      "JATISARI                               0.0         0.0               1.0   \n",
      "JAYAKERTA                              0.0         0.0               0.0   \n",
      "KARAWANG BARAT                         2.0         0.0               2.0   \n",
      "KARAWANG TIMUR                         1.0         0.0               1.0   \n",
      "KLARI                                  8.0         0.0               1.0   \n",
      "KOTABARU                               0.0         0.0               0.0   \n",
      "KUTAWALUYA                             0.0         0.0               0.0   \n",
      "LEMAHABANG                             1.0         0.0               0.0   \n",
      "MAJALAYA                               0.0         0.0               0.0   \n",
      "PAKISJAYA                              0.0         0.0               0.0   \n",
      "PANGKALAN                              1.0         0.0               0.0   \n",
      "PEDES                                  0.0         0.0               0.0   \n",
      "PURWASARI                              0.0         0.0               0.0   \n",
      "RAWAMERTA                              0.0         0.0               1.0   \n",
      "RENGASDENGKLOK                         1.0         0.0               0.0   \n",
      "TEGALWARU                              0.0         0.0               0.0   \n",
      "TELAGASARI                             0.0         0.0               1.0   \n",
      "TELUKJAMBE BARAT                       0.0         0.0               0.0   \n",
      "TELUKJAMBE TIMUR                       3.0         1.0               1.0   \n",
      "TEMPURAN                               0.0         0.0               0.0   \n",
      "TIRTAJAYA                              0.0         0.0               0.0   \n",
      "TIRTAMULYA                             0.0         0.0               0.0   \n",
      "\n",
      "PERKARA           TOTAL  \n",
      "KECAMATAN                \n",
      "BANYUSARI           8.0  \n",
      "BATUJAYA            6.0  \n",
      "CIAMPEL            35.0  \n",
      "CIBUAYA             6.0  \n",
      "CIKAMPEK           57.0  \n",
      "CILAMAYA KULON      6.0  \n",
      "CILAMAYA WETAN     11.0  \n",
      "CILEBAR             2.0  \n",
      "JATISARI           15.0  \n",
      "JAYAKERTA           4.0  \n",
      "KARAWANG BARAT    116.0  \n",
      "KARAWANG TIMUR    127.0  \n",
      "KLARI             100.0  \n",
      "KOTABARU           30.0  \n",
      "KUTAWALUYA         10.0  \n",
      "LEMAHABANG         11.0  \n",
      "MAJALAYA           25.0  \n",
      "PAKISJAYA           3.0  \n",
      "PANGKALAN           8.0  \n",
      "PEDES               3.0  \n",
      "PURWASARI          12.0  \n",
      "RAWAMERTA          17.0  \n",
      "RENGASDENGKLOK     32.0  \n",
      "TEGALWARU           6.0  \n",
      "TELAGASARI         11.0  \n",
      "TELUKJAMBE BARAT   14.0  \n",
      "TELUKJAMBE TIMUR  128.0  \n",
      "TEMPURAN            8.0  \n",
      "TIRTAJAYA           7.0  \n",
      "TIRTAMULYA          3.0  \n"
     ]
    }
   ],
   "source": [
    "# set pivot tabel\n",
    "hasil_pivot = pd.pivot_table(data_clean, index='KECAMATAN', values='NO', columns='PERKARA', aggfunc='count')\n",
    "\n",
    "# clear NaN, replace with 0\n",
    "hasil_pivot = hasil_pivot.fillna(0)\n",
    "\n",
    "# added TOTAL\n",
    "hasil_pivot['TOTAL'] = hasil_pivot.sum(axis=1)\n",
    "print(hasil_pivot)\n",
    "\n",
    "# set to dataframe\n",
    "data_filter = pd.DataFrame(hasil_pivot)\n",
    "# export excel\n",
    "data_filter.to_excel('hasil_pivot2019.xlsx', encoding='utf-8', index=True)"
   ]
  },
  {
   "cell_type": "code",
   "execution_count": 17,
   "metadata": {},
   "outputs": [],
   "source": [
    "# set pivot tabel\n",
    "#hasil_pivot2 = pd.pivot_table(data_clean, index='KECAMATAN', aggfunc='count')"
   ]
  },
  {
   "cell_type": "code",
   "execution_count": null,
   "metadata": {},
   "outputs": [],
   "source": []
  }
 ],
 "metadata": {
  "kernelspec": {
   "display_name": "Python 3",
   "language": "python",
   "name": "python3"
  },
  "language_info": {
   "codemirror_mode": {
    "name": "ipython",
    "version": 3
   },
   "file_extension": ".py",
   "mimetype": "text/x-python",
   "name": "python",
   "nbconvert_exporter": "python",
   "pygments_lexer": "ipython3",
   "version": "3.8.5"
  }
 },
 "nbformat": 4,
 "nbformat_minor": 4
}
