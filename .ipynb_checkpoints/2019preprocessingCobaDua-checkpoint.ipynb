{
 "cells": [
  {
   "cell_type": "code",
   "execution_count": 36,
   "metadata": {},
   "outputs": [],
   "source": [
    "import pandas as pd\n",
    "import numpy as np"
   ]
  },
  {
   "cell_type": "code",
   "execution_count": 37,
   "metadata": {},
   "outputs": [],
   "source": [
    "data=pd.read_excel('2019.xlsx')"
   ]
  },
  {
   "cell_type": "code",
   "execution_count": 38,
   "metadata": {},
   "outputs": [
    {
     "data": {
      "text/html": [
       "<div>\n",
       "<style scoped>\n",
       "    .dataframe tbody tr th:only-of-type {\n",
       "        vertical-align: middle;\n",
       "    }\n",
       "\n",
       "    .dataframe tbody tr th {\n",
       "        vertical-align: top;\n",
       "    }\n",
       "\n",
       "    .dataframe thead th {\n",
       "        text-align: right;\n",
       "    }\n",
       "</style>\n",
       "<table border=\"1\" class=\"dataframe\">\n",
       "  <thead>\n",
       "    <tr style=\"text-align: right;\">\n",
       "      <th></th>\n",
       "      <th>NO</th>\n",
       "      <th>PERKARA</th>\n",
       "      <th>URAIAN KEJADIAN</th>\n",
       "      <th>TKP</th>\n",
       "      <th>KECAMATAN</th>\n",
       "    </tr>\n",
       "  </thead>\n",
       "  <tbody>\n",
       "    <tr>\n",
       "      <th>0</th>\n",
       "      <td>1</td>\n",
       "      <td>PENGGELAPAN</td>\n",
       "      <td>Awal mula kejadian terlapor merental mobil Ava...</td>\n",
       "      <td>PERUM GRIYA KONDANG  RT 19/07\\nKONDANG JAYA\\nK...</td>\n",
       "      <td>KARAWANG TIMUR</td>\n",
       "    </tr>\n",
       "    <tr>\n",
       "      <th>1</th>\n",
       "      <td>2</td>\n",
       "      <td>PENCURIAN</td>\n",
       "      <td>Awal mula kejadian Pelapor mempunyai kartu Kre...</td>\n",
       "      <td>KCP GALUH MAS SUKAHARJA \\nTELUKJAMBE TIMUR\\nKA...</td>\n",
       "      <td>TELUKJAMBE TIMUR</td>\n",
       "    </tr>\n",
       "    <tr>\n",
       "      <th>2</th>\n",
       "      <td>3</td>\n",
       "      <td>PENCURIAN</td>\n",
       "      <td>Awal mula kejadian Para pekerja PT.  Asahi mem...</td>\n",
       "      <td>KAWASAN INDOTAISEI KALIHURIP\\nCIKAMPEK\\nKAB KA...</td>\n",
       "      <td>CIKAMPEK</td>\n",
       "    </tr>\n",
       "  </tbody>\n",
       "</table>\n",
       "</div>"
      ],
      "text/plain": [
       "   NO      PERKARA                                    URAIAN KEJADIAN  \\\n",
       "0   1  PENGGELAPAN  Awal mula kejadian terlapor merental mobil Ava...   \n",
       "1   2    PENCURIAN  Awal mula kejadian Pelapor mempunyai kartu Kre...   \n",
       "2   3    PENCURIAN  Awal mula kejadian Para pekerja PT.  Asahi mem...   \n",
       "\n",
       "                                                 TKP         KECAMATAN  \n",
       "0  PERUM GRIYA KONDANG  RT 19/07\\nKONDANG JAYA\\nK...    KARAWANG TIMUR  \n",
       "1  KCP GALUH MAS SUKAHARJA \\nTELUKJAMBE TIMUR\\nKA...  TELUKJAMBE TIMUR  \n",
       "2  KAWASAN INDOTAISEI KALIHURIP\\nCIKAMPEK\\nKAB KA...          CIKAMPEK  "
      ]
     },
     "execution_count": 38,
     "metadata": {},
     "output_type": "execute_result"
    }
   ],
   "source": [
    "data.head(3)"
   ]
  },
  {
   "cell_type": "code",
   "execution_count": 39,
   "metadata": {},
   "outputs": [
    {
     "data": {
      "text/plain": [
       "1712"
      ]
     },
     "execution_count": 39,
     "metadata": {},
     "output_type": "execute_result"
    }
   ],
   "source": [
    "len(data)"
   ]
  },
  {
   "cell_type": "code",
   "execution_count": 40,
   "metadata": {},
   "outputs": [],
   "source": [
    "hapus= ['FIDUSIA','UU FIDUSIA','UU ITE','PERZINAHAN','PENCEMARAN NAMA BAIK','UU KETENAGAKERJAAN',\n",
    "        'PENGUASAAN TANAH TANPA HAK','PENGUASAAN TANAH TANPA IJIN','PERBUATAN TIDAK MENYENANGKAN',\n",
    "        'PEMALSUAN TANDA TANGAN','KETERANGAN PALSU','PERKAWINAN TERHALANG',\n",
    "        'UU NO 13 TAHUN 2003 TENTANG KETENAGAKERJAAN','MENEMPATKAN KETERANGAN PALSU','PENYEROBOTAN TANAH',\n",
    "        'UU SERIKAT PEKERJA','UU HAK CIPTA','PENELANTARAN KELUARGA','MEMBAWA LARI ANAK',\n",
    "        'MEMBAWA LARI ANAK PEREMPUAN TANPA IJIN','PENGGUNAAN MERK TANPA IJIN','MENYEBARKAN BERITA PALSU',\n",
    "        'TP PEMBERITAAN BOHONG','MEMASUKI PERKARANGAN TANPA HAK',\n",
    "        'Pelanggaran UU Darurat No 12/1951 Jo perbuatan tidak menyenangkan pasal 335 KUHPidana','PENGHINAAN',\n",
    "        'PENGHINAAN RINGAN','MEMASUKI PEKARANGAN TANPA IJIN','MEMASUKI PEKARANGAN TANPA IJIN','TP MAL PRAKTEK',\n",
    "        'UANG PALSU','NARKOTIKA','PENGGUNAAN MERK TANPA IZIN','FITNAH','TP MELAWAN PETUGAS','PENYEROBOTAN TANAH',\n",
    "        'PENYEROBOTAN TANAH TANPA HAK','KARENA KELALAIAN MENGAKIBATKAN ORANG LAIN LUKA','UU BPJS','PENELANTARAN',\n",
    "        'PENELANTARAN KELUARGA','PEMALSUAN SURAT','PEMALSUAN SURAT DAN ATAU PENIPUAN','PEMERASAN',\n",
    "        'MEMBAWA LARI ANAK','MENEMPATKAN KETERANGAN PALSU','PENGANCAMAN','PENGUASAAN TANPA IJIN ',\n",
    "        'Tanpa Hak atau melawan hukummemiliki,menyimpan,menguasai,atau menyediakan narkotika golongan 1 bukan tanaman',\n",
    "        'PERJINAHAN','PEMALSUAN SURAT','PERTBUATAN TIDAK MENYENANGKAN','UU KONSUMEN','PENGGUNAAN MERK TANPA IJIN',\n",
    "        'PENYALAH GUNAAN HAK','UU UPAH DIBAWAH MINIMUM SEKTOR','PENGGELAPAN HAK ATAS TANAH',\n",
    "        'PENGUASAAN TANAH TANAP HAK']"
   ]
  },
  {
   "cell_type": "code",
   "execution_count": 41,
   "metadata": {},
   "outputs": [],
   "source": [
    "data_filtered=data[~data['PERKARA'].isin(hapus)]"
   ]
  },
  {
   "cell_type": "code",
   "execution_count": 42,
   "metadata": {},
   "outputs": [
    {
     "name": "stdout",
     "output_type": "stream",
     "text": [
      "(1474, 5)\n"
     ]
    }
   ],
   "source": [
    "print(data_filtered.shape)"
   ]
  },
  {
   "cell_type": "markdown",
   "metadata": {},
   "source": [
    "CONVERT EXCEL"
   ]
  },
  {
   "cell_type": "code",
   "execution_count": 43,
   "metadata": {},
   "outputs": [],
   "source": [
    "#data.to_excel(r'hasilPreprocessing.xlsx', index = False)\n",
    "\n",
    "data_filter = pd.DataFrame(data_filtered)\n",
    "data_filtered.to_excel(r'hasilPreprocessingKonvensional2019.xlsx', index = False)\n",
    "#('/preprocessing.xlsx', encoding='utf-8', index=False)"
   ]
  },
  {
   "cell_type": "markdown",
   "metadata": {},
   "source": [
    "## MENGHILANGKAN MISSING VALUE"
   ]
  },
  {
   "cell_type": "code",
   "execution_count": 44,
   "metadata": {},
   "outputs": [],
   "source": [
    "import pandas as pd\n",
    "hasil1=pd.read_excel('hasilPreprocessingKonvensional2019.xlsx')"
   ]
  },
  {
   "cell_type": "code",
   "execution_count": 45,
   "metadata": {},
   "outputs": [
    {
     "data": {
      "text/plain": [
       "NO                  0\n",
       "PERKARA             0\n",
       "URAIAN KEJADIAN     0\n",
       "TKP                 0\n",
       "KECAMATAN          95\n",
       "dtype: int64"
      ]
     },
     "execution_count": 45,
     "metadata": {},
     "output_type": "execute_result"
    }
   ],
   "source": [
    "hasil1.isna().sum()"
   ]
  },
  {
   "cell_type": "code",
   "execution_count": 46,
   "metadata": {},
   "outputs": [
    {
     "data": {
      "text/html": [
       "<div>\n",
       "<style scoped>\n",
       "    .dataframe tbody tr th:only-of-type {\n",
       "        vertical-align: middle;\n",
       "    }\n",
       "\n",
       "    .dataframe tbody tr th {\n",
       "        vertical-align: top;\n",
       "    }\n",
       "\n",
       "    .dataframe thead th {\n",
       "        text-align: right;\n",
       "    }\n",
       "</style>\n",
       "<table border=\"1\" class=\"dataframe\">\n",
       "  <thead>\n",
       "    <tr style=\"text-align: right;\">\n",
       "      <th></th>\n",
       "      <th>NO</th>\n",
       "      <th>PERKARA</th>\n",
       "      <th>URAIAN KEJADIAN</th>\n",
       "      <th>TKP</th>\n",
       "      <th>KECAMATAN</th>\n",
       "    </tr>\n",
       "  </thead>\n",
       "  <tbody>\n",
       "    <tr>\n",
       "      <th>0</th>\n",
       "      <td>1</td>\n",
       "      <td>PENGGELAPAN</td>\n",
       "      <td>Awal mula kejadian terlapor merental mobil Ava...</td>\n",
       "      <td>PERUM GRIYA KONDANG  RT 19/07\\nKONDANG JAYA\\nK...</td>\n",
       "      <td>KARAWANG TIMUR</td>\n",
       "    </tr>\n",
       "    <tr>\n",
       "      <th>1</th>\n",
       "      <td>2</td>\n",
       "      <td>PENCURIAN</td>\n",
       "      <td>Awal mula kejadian Pelapor mempunyai kartu Kre...</td>\n",
       "      <td>KCP GALUH MAS SUKAHARJA \\nTELUKJAMBE TIMUR\\nKA...</td>\n",
       "      <td>TELUKJAMBE TIMUR</td>\n",
       "    </tr>\n",
       "    <tr>\n",
       "      <th>2</th>\n",
       "      <td>3</td>\n",
       "      <td>PENCURIAN</td>\n",
       "      <td>Awal mula kejadian Para pekerja PT.  Asahi mem...</td>\n",
       "      <td>KAWASAN INDOTAISEI KALIHURIP\\nCIKAMPEK\\nKAB KA...</td>\n",
       "      <td>CIKAMPEK</td>\n",
       "    </tr>\n",
       "    <tr>\n",
       "      <th>3</th>\n",
       "      <td>4</td>\n",
       "      <td>PENIPUAN</td>\n",
       "      <td>Awal mula kejadian pelapor berniat mendaftarka...</td>\n",
       "      <td>DSN SENTUL RT 001/002\\nCIKAMPEK SELATAN\\nCIKAM...</td>\n",
       "      <td>CIKAMPEK</td>\n",
       "    </tr>\n",
       "    <tr>\n",
       "      <th>4</th>\n",
       "      <td>5</td>\n",
       "      <td>PENIPUAN</td>\n",
       "      <td>Awal mula kejadian pelapor dan terlapor berken...</td>\n",
       "      <td>ATM BNI CENTER JL TELAGASARI \\nPASIRTALAGA\\nTE...</td>\n",
       "      <td>TELAGASARI</td>\n",
       "    </tr>\n",
       "    <tr>\n",
       "      <th>...</th>\n",
       "      <td>...</td>\n",
       "      <td>...</td>\n",
       "      <td>...</td>\n",
       "      <td>...</td>\n",
       "      <td>...</td>\n",
       "    </tr>\n",
       "    <tr>\n",
       "      <th>1469</th>\n",
       "      <td>1707</td>\n",
       "      <td>CURAT</td>\n",
       "      <td>Diduga terlapor melakukan perbuatan tsb dg cr ...</td>\n",
       "      <td>ALFAMART PINAYUNGAN \\nDS PINAYUNGAN\\nKEC TELUK...</td>\n",
       "      <td>TELUKJAMBE TIMUR</td>\n",
       "    </tr>\n",
       "    <tr>\n",
       "      <th>1470</th>\n",
       "      <td>1709</td>\n",
       "      <td>PENGANIAYAAN</td>\n",
       "      <td>Diduga terlapor melakukan perbuatan tsb dg cr ...</td>\n",
       "      <td>BAKAN TENGAH KARYASARI\\nRENGASDENGKLOK\\nKAB KA...</td>\n",
       "      <td>RENGASDENGKLOK</td>\n",
       "    </tr>\n",
       "    <tr>\n",
       "      <th>1471</th>\n",
       "      <td>1710</td>\n",
       "      <td>PENIPUAN</td>\n",
       "      <td>Diduga terlapor melakukan perbuatan tsb dg cr ...</td>\n",
       "      <td>ATM MANDIRI GOR PANATAYUDA NAGASARI\\nKARAWANG ...</td>\n",
       "      <td>KARAWANG BARAT</td>\n",
       "    </tr>\n",
       "    <tr>\n",
       "      <th>1472</th>\n",
       "      <td>1711</td>\n",
       "      <td>PENGEROYOKAN</td>\n",
       "      <td>Pada hari Rabu tanggal 18 Desember 2019 diketa...</td>\n",
       "      <td>JALAN SAWAH KAMPUNG TEGAL KONENG, DS. KARANGSI...</td>\n",
       "      <td>TIRTAMULYA</td>\n",
       "    </tr>\n",
       "    <tr>\n",
       "      <th>1473</th>\n",
       "      <td>1712</td>\n",
       "      <td>CURANMOR</td>\n",
       "      <td>Pada hari Selasa tanggal 24 Desember 2019 dike...</td>\n",
       "      <td>Pasar Pemda cikampek Ds. Cikampek Timur Kec. C...</td>\n",
       "      <td>CIKAMPEK</td>\n",
       "    </tr>\n",
       "  </tbody>\n",
       "</table>\n",
       "<p>1379 rows × 5 columns</p>\n",
       "</div>"
      ],
      "text/plain": [
       "        NO       PERKARA                                    URAIAN KEJADIAN  \\\n",
       "0        1   PENGGELAPAN  Awal mula kejadian terlapor merental mobil Ava...   \n",
       "1        2     PENCURIAN  Awal mula kejadian Pelapor mempunyai kartu Kre...   \n",
       "2        3     PENCURIAN  Awal mula kejadian Para pekerja PT.  Asahi mem...   \n",
       "3        4      PENIPUAN  Awal mula kejadian pelapor berniat mendaftarka...   \n",
       "4        5      PENIPUAN  Awal mula kejadian pelapor dan terlapor berken...   \n",
       "...    ...           ...                                                ...   \n",
       "1469  1707         CURAT  Diduga terlapor melakukan perbuatan tsb dg cr ...   \n",
       "1470  1709  PENGANIAYAAN  Diduga terlapor melakukan perbuatan tsb dg cr ...   \n",
       "1471  1710      PENIPUAN  Diduga terlapor melakukan perbuatan tsb dg cr ...   \n",
       "1472  1711  PENGEROYOKAN  Pada hari Rabu tanggal 18 Desember 2019 diketa...   \n",
       "1473  1712      CURANMOR  Pada hari Selasa tanggal 24 Desember 2019 dike...   \n",
       "\n",
       "                                                    TKP         KECAMATAN  \n",
       "0     PERUM GRIYA KONDANG  RT 19/07\\nKONDANG JAYA\\nK...    KARAWANG TIMUR  \n",
       "1     KCP GALUH MAS SUKAHARJA \\nTELUKJAMBE TIMUR\\nKA...  TELUKJAMBE TIMUR  \n",
       "2     KAWASAN INDOTAISEI KALIHURIP\\nCIKAMPEK\\nKAB KA...          CIKAMPEK  \n",
       "3     DSN SENTUL RT 001/002\\nCIKAMPEK SELATAN\\nCIKAM...          CIKAMPEK  \n",
       "4     ATM BNI CENTER JL TELAGASARI \\nPASIRTALAGA\\nTE...        TELAGASARI  \n",
       "...                                                 ...               ...  \n",
       "1469  ALFAMART PINAYUNGAN \\nDS PINAYUNGAN\\nKEC TELUK...  TELUKJAMBE TIMUR  \n",
       "1470  BAKAN TENGAH KARYASARI\\nRENGASDENGKLOK\\nKAB KA...    RENGASDENGKLOK  \n",
       "1471  ATM MANDIRI GOR PANATAYUDA NAGASARI\\nKARAWANG ...    KARAWANG BARAT  \n",
       "1472  JALAN SAWAH KAMPUNG TEGAL KONENG, DS. KARANGSI...        TIRTAMULYA  \n",
       "1473  Pasar Pemda cikampek Ds. Cikampek Timur Kec. C...          CIKAMPEK  \n",
       "\n",
       "[1379 rows x 5 columns]"
      ]
     },
     "execution_count": 46,
     "metadata": {},
     "output_type": "execute_result"
    }
   ],
   "source": [
    "hasil1.dropna()"
   ]
  },
  {
   "cell_type": "code",
   "execution_count": 47,
   "metadata": {},
   "outputs": [
    {
     "data": {
      "text/plain": [
       "1379"
      ]
     },
     "execution_count": 47,
     "metadata": {},
     "output_type": "execute_result"
    }
   ],
   "source": [
    "len(hasil1.dropna())"
   ]
  },
  {
   "cell_type": "code",
   "execution_count": 48,
   "metadata": {},
   "outputs": [],
   "source": [
    "hasil2=hasil1.dropna(axis=0)"
   ]
  },
  {
   "cell_type": "code",
   "execution_count": 49,
   "metadata": {},
   "outputs": [
    {
     "data": {
      "text/plain": [
       "NO                 0\n",
       "PERKARA            0\n",
       "URAIAN KEJADIAN    0\n",
       "TKP                0\n",
       "KECAMATAN          0\n",
       "dtype: int64"
      ]
     },
     "execution_count": 49,
     "metadata": {},
     "output_type": "execute_result"
    }
   ],
   "source": [
    "hasil2.isna().sum()"
   ]
  },
  {
   "cell_type": "code",
   "execution_count": 50,
   "metadata": {},
   "outputs": [
    {
     "data": {
      "text/plain": [
       "PENIPUAN                     255\n",
       "CURANMOR                     223\n",
       "PENIPUAN DAN PENGGELAPAN     140\n",
       "CURAT                        134\n",
       "PENGANIAYAAN                 122\n",
       "PENGGELAPAN                  121\n",
       "PENGEROYOKAN                  87\n",
       "PENCURIAN                     77\n",
       "CABUL                         69\n",
       "KDRT                          57\n",
       "PENGERUSAKAN                  33\n",
       "CURAS                         22\n",
       "PERUNDUNGAN ANAK              16\n",
       "PEMALSUAN                     13\n",
       "PEMBUNUHAN                     4\n",
       "PEMERKOSAAN                    2\n",
       "PEMBAKARAN                     2\n",
       "PENCURIAN DAN PENGGELAPAN      1\n",
       "PELECEHAN SEKSUAL              1\n",
       "Name: PERKARA, dtype: int64"
      ]
     },
     "execution_count": 50,
     "metadata": {},
     "output_type": "execute_result"
    }
   ],
   "source": [
    "hasil2['PERKARA'].value_counts()"
   ]
  },
  {
   "cell_type": "markdown",
   "metadata": {},
   "source": [
    "-CONVERT EXCEL-"
   ]
  },
  {
   "cell_type": "code",
   "execution_count": 51,
   "metadata": {},
   "outputs": [],
   "source": [
    "hasil2.to_excel(r'hasilPreprocessingMissingValue2019.xlsx', index = False)"
   ]
  },
  {
   "cell_type": "markdown",
   "metadata": {},
   "source": [
    "### MENGHILANGKAN KOLOM YANG TIDAK DIBUTUHKAN"
   ]
  },
  {
   "cell_type": "code",
   "execution_count": 72,
   "metadata": {},
   "outputs": [],
   "source": [
    "import pandas as pd\n",
    "hasil3=pd.read_excel('hasilPreprocessingMissingValue2019.xlsx') "
   ]
  },
  {
   "cell_type": "code",
   "execution_count": 73,
   "metadata": {},
   "outputs": [
    {
     "name": "stdout",
     "output_type": "stream",
     "text": [
      "(1379, 5)\n"
     ]
    }
   ],
   "source": [
    "print(hasil3.shape)"
   ]
  },
  {
   "cell_type": "code",
   "execution_count": 74,
   "metadata": {},
   "outputs": [
    {
     "data": {
      "text/html": [
       "<div>\n",
       "<style scoped>\n",
       "    .dataframe tbody tr th:only-of-type {\n",
       "        vertical-align: middle;\n",
       "    }\n",
       "\n",
       "    .dataframe tbody tr th {\n",
       "        vertical-align: top;\n",
       "    }\n",
       "\n",
       "    .dataframe thead th {\n",
       "        text-align: right;\n",
       "    }\n",
       "</style>\n",
       "<table border=\"1\" class=\"dataframe\">\n",
       "  <thead>\n",
       "    <tr style=\"text-align: right;\">\n",
       "      <th></th>\n",
       "      <th>NO</th>\n",
       "      <th>PERKARA</th>\n",
       "      <th>URAIAN KEJADIAN</th>\n",
       "      <th>TKP</th>\n",
       "      <th>KECAMATAN</th>\n",
       "    </tr>\n",
       "  </thead>\n",
       "  <tbody>\n",
       "    <tr>\n",
       "      <th>0</th>\n",
       "      <td>1</td>\n",
       "      <td>PENGGELAPAN</td>\n",
       "      <td>Awal mula kejadian terlapor merental mobil Ava...</td>\n",
       "      <td>PERUM GRIYA KONDANG  RT 19/07\\nKONDANG JAYA\\nK...</td>\n",
       "      <td>KARAWANG TIMUR</td>\n",
       "    </tr>\n",
       "    <tr>\n",
       "      <th>1</th>\n",
       "      <td>2</td>\n",
       "      <td>PENCURIAN</td>\n",
       "      <td>Awal mula kejadian Pelapor mempunyai kartu Kre...</td>\n",
       "      <td>KCP GALUH MAS SUKAHARJA \\nTELUKJAMBE TIMUR\\nKA...</td>\n",
       "      <td>TELUKJAMBE TIMUR</td>\n",
       "    </tr>\n",
       "    <tr>\n",
       "      <th>2</th>\n",
       "      <td>3</td>\n",
       "      <td>PENCURIAN</td>\n",
       "      <td>Awal mula kejadian Para pekerja PT.  Asahi mem...</td>\n",
       "      <td>KAWASAN INDOTAISEI KALIHURIP\\nCIKAMPEK\\nKAB KA...</td>\n",
       "      <td>CIKAMPEK</td>\n",
       "    </tr>\n",
       "  </tbody>\n",
       "</table>\n",
       "</div>"
      ],
      "text/plain": [
       "   NO      PERKARA                                    URAIAN KEJADIAN  \\\n",
       "0   1  PENGGELAPAN  Awal mula kejadian terlapor merental mobil Ava...   \n",
       "1   2    PENCURIAN  Awal mula kejadian Pelapor mempunyai kartu Kre...   \n",
       "2   3    PENCURIAN  Awal mula kejadian Para pekerja PT.  Asahi mem...   \n",
       "\n",
       "                                                 TKP         KECAMATAN  \n",
       "0  PERUM GRIYA KONDANG  RT 19/07\\nKONDANG JAYA\\nK...    KARAWANG TIMUR  \n",
       "1  KCP GALUH MAS SUKAHARJA \\nTELUKJAMBE TIMUR\\nKA...  TELUKJAMBE TIMUR  \n",
       "2  KAWASAN INDOTAISEI KALIHURIP\\nCIKAMPEK\\nKAB KA...          CIKAMPEK  "
      ]
     },
     "execution_count": 74,
     "metadata": {},
     "output_type": "execute_result"
    }
   ],
   "source": [
    "hasil3.head(3)"
   ]
  },
  {
   "cell_type": "markdown",
   "metadata": {},
   "source": [
    "-MENGHAPUS KOLOM YANG TIDAK DIBUTUHKAN-"
   ]
  },
  {
   "cell_type": "code",
   "execution_count": 75,
   "metadata": {},
   "outputs": [],
   "source": [
    "hasil3=hasil3.drop([\"TKP\",\"NO\",\"URAIAN KEJADIAN\"], axis=1)"
   ]
  },
  {
   "cell_type": "code",
   "execution_count": 76,
   "metadata": {},
   "outputs": [
    {
     "data": {
      "text/html": [
       "<div>\n",
       "<style scoped>\n",
       "    .dataframe tbody tr th:only-of-type {\n",
       "        vertical-align: middle;\n",
       "    }\n",
       "\n",
       "    .dataframe tbody tr th {\n",
       "        vertical-align: top;\n",
       "    }\n",
       "\n",
       "    .dataframe thead th {\n",
       "        text-align: right;\n",
       "    }\n",
       "</style>\n",
       "<table border=\"1\" class=\"dataframe\">\n",
       "  <thead>\n",
       "    <tr style=\"text-align: right;\">\n",
       "      <th></th>\n",
       "      <th>PERKARA</th>\n",
       "      <th>KECAMATAN</th>\n",
       "    </tr>\n",
       "  </thead>\n",
       "  <tbody>\n",
       "    <tr>\n",
       "      <th>0</th>\n",
       "      <td>PENGGELAPAN</td>\n",
       "      <td>KARAWANG TIMUR</td>\n",
       "    </tr>\n",
       "    <tr>\n",
       "      <th>1</th>\n",
       "      <td>PENCURIAN</td>\n",
       "      <td>TELUKJAMBE TIMUR</td>\n",
       "    </tr>\n",
       "  </tbody>\n",
       "</table>\n",
       "</div>"
      ],
      "text/plain": [
       "       PERKARA         KECAMATAN\n",
       "0  PENGGELAPAN    KARAWANG TIMUR\n",
       "1    PENCURIAN  TELUKJAMBE TIMUR"
      ]
     },
     "execution_count": 76,
     "metadata": {},
     "output_type": "execute_result"
    }
   ],
   "source": [
    "hasil3.head(2)"
   ]
  },
  {
   "cell_type": "markdown",
   "metadata": {},
   "source": [
    "-convert excel-"
   ]
  },
  {
   "cell_type": "code",
   "execution_count": 77,
   "metadata": {},
   "outputs": [],
   "source": [
    "hasil3.to_excel(r'hasilCleaning2019.xlsx', index=False)"
   ]
  },
  {
   "cell_type": "markdown",
   "metadata": {},
   "source": [
    "### PIVOT TABLE"
   ]
  },
  {
   "cell_type": "code",
   "execution_count": 78,
   "metadata": {},
   "outputs": [],
   "source": [
    "import pandas as pd\n",
    "import numpy as np"
   ]
  },
  {
   "cell_type": "code",
   "execution_count": 79,
   "metadata": {},
   "outputs": [],
   "source": [
    "data_clean=pd.read_excel('hasilCleaning2019.xlsx')"
   ]
  },
  {
   "cell_type": "code",
   "execution_count": 81,
   "metadata": {},
   "outputs": [
    {
     "name": "stdout",
     "output_type": "stream",
     "text": [
      "PERKARA           CABUL  CURANMOR  CURAS  CURAT  KDRT  PELECEHAN SEKSUAL  \\\n",
      "KECAMATAN                                                                  \n",
      "BANYUSARI           1.0       5.0    0.0    8.0   0.0                0.0   \n",
      "BATUJAYA            2.0       0.0    0.0    0.0   1.0                0.0   \n",
      "CIAMPEL             2.0       5.0    0.0    4.0   3.0                0.0   \n",
      "CIBUAYA             0.0       1.0    0.0    0.0   1.0                0.0   \n",
      "CIKAMPEK            2.0       6.0    6.0    9.0   5.0                0.0   \n",
      "CILAMAYA KULON      4.0       0.0    0.0    7.0   0.0                0.0   \n",
      "CILAMAYA WETAN      3.0       1.0    1.0   12.0   0.0                0.0   \n",
      "CILEBAR             0.0       0.0    0.0    0.0   0.0                0.0   \n",
      "JATISARI            0.0       9.0    1.0    9.0   0.0                0.0   \n",
      "JAYAKERTA           3.0       3.0    0.0    0.0   1.0                0.0   \n",
      "KARAWANG BARAT      4.0      29.0    3.0   16.0   6.0                0.0   \n",
      "KARAWANG TIMUR      6.0      56.0    3.0   23.0   9.0                0.0   \n",
      "KLARI               4.0      37.0    4.0    9.0   6.0                0.0   \n",
      "KOTABARU            7.0       0.0    0.0    0.0   4.0                0.0   \n",
      "KUTAWALUYA          1.0       2.0    0.0    2.0   0.0                0.0   \n",
      "LEMAHABANG          1.0       0.0    1.0    4.0   3.0                0.0   \n",
      "MAJALAYA            0.0       8.0    0.0    1.0   1.0                0.0   \n",
      "PAKISJAYA           1.0       1.0    0.0    1.0   0.0                0.0   \n",
      "PANGKALAN           0.0       0.0    0.0    0.0   0.0                0.0   \n",
      "PEDES               9.0       0.0    0.0    0.0   1.0                0.0   \n",
      "PURWASARI           2.0       4.0    0.0    2.0   0.0                0.0   \n",
      "RAWAMERTA           1.0       1.0    0.0    0.0   0.0                0.0   \n",
      "RENGASDENGKLOK      4.0       5.0    2.0    3.0   1.0                0.0   \n",
      "TEGALWARU           2.0       0.0    0.0    0.0   1.0                0.0   \n",
      "TELAGASARI          1.0       1.0    0.0    1.0   3.0                0.0   \n",
      "TELUKJAMBE BARAT    2.0       6.0    0.0    1.0   2.0                0.0   \n",
      "TELUKJAMBE TIMUR    4.0      37.0    1.0   21.0   6.0                1.0   \n",
      "TEMPURAN            2.0       0.0    0.0    0.0   1.0                0.0   \n",
      "TIRTAJAYA           0.0       6.0    0.0    1.0   1.0                0.0   \n",
      "TIRTAMULYA          1.0       0.0    0.0    0.0   1.0                0.0   \n",
      "\n",
      "PERKARA           PEMALSUAN  PEMBAKARAN  PEMBUNUHAN  PEMERKOSAAN  PENCURIAN  \\\n",
      "KECAMATAN                                                                     \n",
      "BANYUSARI               0.0         0.0         1.0          0.0        1.0   \n",
      "BATUJAYA                1.0         0.0         0.0          0.0        0.0   \n",
      "CIAMPEL                 1.0         0.0         0.0          0.0        6.0   \n",
      "CIBUAYA                 0.0         0.0         0.0          1.0        1.0   \n",
      "CIKAMPEK                1.0         0.0         0.0          0.0        8.0   \n",
      "CILAMAYA KULON          0.0         0.0         0.0          0.0        0.0   \n",
      "CILAMAYA WETAN          0.0         0.0         0.0          0.0        0.0   \n",
      "CILEBAR                 0.0         0.0         0.0          0.0        1.0   \n",
      "JATISARI                0.0         0.0         0.0          0.0        1.0   \n",
      "JAYAKERTA               0.0         0.0         0.0          0.0        1.0   \n",
      "KARAWANG BARAT          4.0         1.0         1.0          0.0       21.0   \n",
      "KARAWANG TIMUR          1.0         1.0         0.0          0.0       10.0   \n",
      "KLARI                   0.0         0.0         0.0          0.0        9.0   \n",
      "KOTABARU                0.0         0.0         0.0          0.0        5.0   \n",
      "KUTAWALUYA              1.0         0.0         0.0          0.0        0.0   \n",
      "LEMAHABANG              0.0         0.0         0.0          1.0        0.0   \n",
      "MAJALAYA                0.0         0.0         0.0          0.0        5.0   \n",
      "PAKISJAYA               1.0         0.0         0.0          0.0        0.0   \n",
      "PANGKALAN               0.0         0.0         0.0          0.0        0.0   \n",
      "PEDES                   1.0         0.0         0.0          0.0        0.0   \n",
      "PURWASARI               0.0         0.0         0.0          0.0        1.0   \n",
      "RAWAMERTA               0.0         0.0         0.0          0.0        0.0   \n",
      "RENGASDENGKLOK          1.0         0.0         0.0          0.0        0.0   \n",
      "TEGALWARU               0.0         0.0         0.0          0.0        0.0   \n",
      "TELAGASARI              0.0         0.0         0.0          0.0        0.0   \n",
      "TELUKJAMBE BARAT        0.0         0.0         1.0          0.0        1.0   \n",
      "TELUKJAMBE TIMUR        1.0         0.0         0.0          0.0        6.0   \n",
      "TEMPURAN                0.0         0.0         0.0          0.0        0.0   \n",
      "TIRTAJAYA               0.0         0.0         1.0          0.0        0.0   \n",
      "TIRTAMULYA              0.0         0.0         0.0          0.0        0.0   \n",
      "\n",
      "PERKARA           PENCURIAN DAN PENGGELAPAN  PENGANIAYAAN  PENGEROYOKAN  \\\n",
      "KECAMATAN                                                                 \n",
      "BANYUSARI                               0.0           0.0           0.0   \n",
      "BATUJAYA                                0.0           0.0           1.0   \n",
      "CIAMPEL                                 0.0           3.0           4.0   \n",
      "CIBUAYA                                 0.0           1.0           0.0   \n",
      "CIKAMPEK                                0.0           6.0           7.0   \n",
      "CILAMAYA KULON                          0.0           3.0           0.0   \n",
      "CILAMAYA WETAN                          0.0           2.0           4.0   \n",
      "CILEBAR                                 0.0           2.0           0.0   \n",
      "JATISARI                                0.0           2.0           0.0   \n",
      "JAYAKERTA                               0.0           1.0           1.0   \n",
      "KARAWANG BARAT                          1.0          20.0          11.0   \n",
      "KARAWANG TIMUR                          0.0          16.0          17.0   \n",
      "KLARI                                   0.0          18.0          12.0   \n",
      "KOTABARU                                0.0           2.0           0.0   \n",
      "KUTAWALUYA                              0.0           0.0           1.0   \n",
      "LEMAHABANG                              0.0           3.0           0.0   \n",
      "MAJALAYA                                0.0           4.0           2.0   \n",
      "PAKISJAYA                               0.0           0.0           0.0   \n",
      "PANGKALAN                               0.0           1.0           0.0   \n",
      "PEDES                                   0.0           2.0           0.0   \n",
      "PURWASARI                               0.0           1.0           0.0   \n",
      "RAWAMERTA                               0.0           0.0           0.0   \n",
      "RENGASDENGKLOK                          0.0           6.0           2.0   \n",
      "TEGALWARU                               0.0           0.0           0.0   \n",
      "TELAGASARI                              0.0           4.0           6.0   \n",
      "TELUKJAMBE BARAT                        0.0           2.0           3.0   \n",
      "TELUKJAMBE TIMUR                        0.0          17.0          12.0   \n",
      "TEMPURAN                                0.0           5.0           0.0   \n",
      "TIRTAJAYA                               0.0           1.0           0.0   \n",
      "TIRTAMULYA                              0.0           0.0           4.0   \n",
      "\n",
      "PERKARA           PENGERUSAKAN  PENGGELAPAN  PENIPUAN  \\\n",
      "KECAMATAN                                               \n",
      "BANYUSARI                  1.0          0.0       3.0   \n",
      "BATUJAYA                   0.0          0.0       1.0   \n",
      "CIAMPEL                    5.0          7.0      11.0   \n",
      "CIBUAYA                    2.0          1.0       1.0   \n",
      "CIKAMPEK                   3.0         12.0      21.0   \n",
      "CILAMAYA KULON             3.0          1.0       2.0   \n",
      "CILAMAYA WETAN             1.0          0.0       2.0   \n",
      "CILEBAR                    0.0          0.0       1.0   \n",
      "JATISARI                   0.0          1.0       1.0   \n",
      "JAYAKERTA                  0.0          1.0       1.0   \n",
      "KARAWANG BARAT             4.0         25.0      52.0   \n",
      "KARAWANG TIMUR             2.0         21.0      41.0   \n",
      "KLARI                      3.0         19.0      33.0   \n",
      "KOTABARU                   0.0          3.0       3.0   \n",
      "KUTAWALUYA                 0.0          3.0       0.0   \n",
      "LEMAHABANG                 1.0          2.0       2.0   \n",
      "MAJALAYA                   1.0          1.0       2.0   \n",
      "PAKISJAYA                  1.0          0.0       2.0   \n",
      "PANGKALAN                  0.0          0.0       2.0   \n",
      "PEDES                      0.0          0.0       1.0   \n",
      "PURWASARI                  0.0          1.0       4.0   \n",
      "RAWAMERTA                  1.0          1.0       0.0   \n",
      "RENGASDENGKLOK             0.0          3.0      11.0   \n",
      "TEGALWARU                  0.0          0.0       3.0   \n",
      "TELAGASARI                 0.0          2.0       3.0   \n",
      "TELUKJAMBE BARAT           1.0          1.0       7.0   \n",
      "TELUKJAMBE TIMUR           3.0         14.0      40.0   \n",
      "TEMPURAN                   1.0          2.0       4.0   \n",
      "TIRTAJAYA                  0.0          0.0       1.0   \n",
      "TIRTAMULYA                 0.0          0.0       0.0   \n",
      "\n",
      "PERKARA           PENIPUAN DAN PENGGELAPAN  PERUNDUNGAN ANAK  TOTAL  \n",
      "KECAMATAN                                                            \n",
      "BANYUSARI                              1.0               0.0   21.0  \n",
      "BATUJAYA                               2.0               1.0    9.0  \n",
      "CIAMPEL                               12.0               0.0   63.0  \n",
      "CIBUAYA                                1.0               2.0   12.0  \n",
      "CIKAMPEK                               7.0               1.0   94.0  \n",
      "CILAMAYA KULON                         0.0               1.0   21.0  \n",
      "CILAMAYA WETAN                         1.0               0.0   27.0  \n",
      "CILEBAR                                1.0               0.0    5.0  \n",
      "JATISARI                               2.0               0.0   26.0  \n",
      "JAYAKERTA                              5.0               1.0   18.0  \n",
      "KARAWANG BARAT                        16.0               2.0  216.0  \n",
      "KARAWANG TIMUR                        15.0               3.0  224.0  \n",
      "KLARI                                 32.0               0.0  186.0  \n",
      "KOTABARU                               3.0               0.0   27.0  \n",
      "KUTAWALUYA                             3.0               0.0   13.0  \n",
      "LEMAHABANG                             1.0               0.0   19.0  \n",
      "MAJALAYA                               2.0               0.0   27.0  \n",
      "PAKISJAYA                              1.0               0.0    8.0  \n",
      "PANGKALAN                              0.0               0.0    3.0  \n",
      "PEDES                                  2.0               0.0   16.0  \n",
      "PURWASARI                              3.0               2.0   20.0  \n",
      "RAWAMERTA                              1.0               0.0    5.0  \n",
      "RENGASDENGKLOK                         4.0               0.0   42.0  \n",
      "TEGALWARU                              1.0               0.0    7.0  \n",
      "TELAGASARI                             1.0               0.0   22.0  \n",
      "TELUKJAMBE BARAT                       2.0               0.0   29.0  \n",
      "TELUKJAMBE TIMUR                      17.0               2.0  182.0  \n",
      "TEMPURAN                               2.0               0.0   17.0  \n",
      "TIRTAJAYA                              1.0               1.0   13.0  \n",
      "TIRTAMULYA                             1.0               0.0    7.0  \n"
     ]
    }
   ],
   "source": [
    "# inisialisasi no/menambahkan kolom no\n",
    "data_clean.insert(0, 'NO', data_clean.index + 1)\n",
    "\n",
    "# set pivot tabel\n",
    "hasil_pivot = pd.pivot_table(data_clean, index='KECAMATAN', values='NO', columns='PERKARA', aggfunc='count')\n",
    "\n",
    "# clear NaN, replace with 0\n",
    "hasil_pivot = hasil_pivot.fillna(0)\n",
    "\n",
    "# added TOTAL\n",
    "hasil_pivot['TOTAL'] = hasil_pivot.sum(axis=1)\n",
    "print(hasil_pivot)\n",
    "\n",
    "# set to dataframe\n",
    "data_filter = pd.DataFrame(hasil_pivot)\n",
    "# export excel\n",
    "data_filter.to_excel('hasil_pivot2019.xlsx', encoding='utf-8', index=True)"
   ]
  },
  {
   "cell_type": "code",
   "execution_count": 82,
   "metadata": {},
   "outputs": [],
   "source": [
    "# set pivot tabel\n",
    "hasil_pivot2 = pd.pivot_table(data_clean, index='KECAMATAN', aggfunc='count')"
   ]
  },
  {
   "cell_type": "code",
   "execution_count": 83,
   "metadata": {},
   "outputs": [
    {
     "name": "stdout",
     "output_type": "stream",
     "text": [
      "(30, 2)\n"
     ]
    }
   ],
   "source": [
    "print(hasil_pivot2.shape)"
   ]
  },
  {
   "cell_type": "code",
   "execution_count": 84,
   "metadata": {},
   "outputs": [
    {
     "name": "stdout",
     "output_type": "stream",
     "text": [
      "                   NO  PERKARA\n",
      "KECAMATAN                     \n",
      "BANYUSARI          21       21\n",
      "BATUJAYA            9        9\n",
      "CIAMPEL            63       63\n",
      "CIBUAYA            12       12\n",
      "CIKAMPEK           94       94\n",
      "CILAMAYA KULON     21       21\n",
      "CILAMAYA WETAN     27       27\n",
      "CILEBAR             5        5\n",
      "JATISARI           26       26\n",
      "JAYAKERTA          18       18\n",
      "KARAWANG BARAT    216      216\n",
      "KARAWANG TIMUR    224      224\n",
      "KLARI             186      186\n",
      "KOTABARU           27       27\n",
      "KUTAWALUYA         13       13\n",
      "LEMAHABANG         19       19\n",
      "MAJALAYA           27       27\n",
      "PAKISJAYA           8        8\n",
      "PANGKALAN           3        3\n",
      "PEDES              16       16\n",
      "PURWASARI          20       20\n",
      "RAWAMERTA           5        5\n",
      "RENGASDENGKLOK     42       42\n",
      "TEGALWARU           7        7\n",
      "TELAGASARI         22       22\n",
      "TELUKJAMBE BARAT   29       29\n",
      "TELUKJAMBE TIMUR  182      182\n",
      "TEMPURAN           17       17\n",
      "TIRTAJAYA          13       13\n",
      "TIRTAMULYA          7        7\n"
     ]
    }
   ],
   "source": [
    "print(hasil_pivot2)"
   ]
  },
  {
   "cell_type": "code",
   "execution_count": null,
   "metadata": {},
   "outputs": [],
   "source": []
  },
  {
   "cell_type": "code",
   "execution_count": null,
   "metadata": {},
   "outputs": [],
   "source": []
  }
 ],
 "metadata": {
  "kernelspec": {
   "display_name": "Python 3",
   "language": "python",
   "name": "python3"
  },
  "language_info": {
   "codemirror_mode": {
    "name": "ipython",
    "version": 3
   },
   "file_extension": ".py",
   "mimetype": "text/x-python",
   "name": "python",
   "nbconvert_exporter": "python",
   "pygments_lexer": "ipython3",
   "version": "3.8.5"
  }
 },
 "nbformat": 4,
 "nbformat_minor": 4
}
